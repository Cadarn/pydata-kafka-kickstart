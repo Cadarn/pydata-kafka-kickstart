{
 "cells": [
  {
   "cell_type": "code",
   "execution_count": 1,
   "id": "c5dd0418-f402-40c7-89bb-1c014a494921",
   "metadata": {},
   "outputs": [],
   "source": [
    "from kafka import KafkaProducer\n",
    "from dotenv import dotenv_values\n",
    "import json"
   ]
  },
  {
   "cell_type": "code",
   "execution_count": 2,
   "id": "16e349c4-dede-4816-8673-1d9f4e698ff4",
   "metadata": {},
   "outputs": [],
   "source": [
    "CONFIG = dotenv_values(\"env.txt\")"
   ]
  },
  {
   "cell_type": "code",
   "execution_count": 3,
   "id": "c708fd2a-7823-4ec3-83ab-d104267a1ab1",
   "metadata": {},
   "outputs": [],
   "source": [
    "producer = KafkaProducer(\n",
    "    bootstrap_servers=CONFIG.get(\"bootstrap_servers\"),\n",
    "    security_protocol=CONFIG.get(\"security_protocol\"),\n",
    "    sasl_mechanism=CONFIG.get(\"sasl_mechanism\"),\n",
    "    sasl_plain_username=CONFIG.get(\"upstash_user\"),\n",
    "    sasl_plain_password=CONFIG.get(\"upstash_pw\"),\n",
    "    value_serializer=lambda v: json.dumps(v).encode('ascii'),\n",
    "    key_serializer=lambda v: json.dumps(v).encode('ascii')\n",
    ")"
   ]
  },
  {
   "cell_type": "code",
   "execution_count": 4,
   "id": "5ab94f63-bf2a-4cac-b59b-b059fa8cb412",
   "metadata": {},
   "outputs": [],
   "source": [
    "TOPIC_NAME = \"pizza\""
   ]
  },
  {
   "cell_type": "code",
   "execution_count": 24,
   "id": "2b8b4022-6820-4044-a045-1a65eeefc401",
   "metadata": {},
   "outputs": [],
   "source": [
    "producer.send(\n",
    " TOPIC_NAME,\n",
    " key={\"id\":1},\n",
    " value={\"name\":\"👨 Francesco\", \"pizza\":\"Margherita 🍕\"}\n",
    ")\n",
    "\n",
    "producer.flush()"
   ]
  },
  {
   "cell_type": "code",
   "execution_count": 26,
   "id": "04a63e5f-ae27-434c-8bb4-27e6a1a0fb6a",
   "metadata": {},
   "outputs": [],
   "source": [
    "producer.send(\n",
    " TOPIC_NAME,\n",
    " key={\"id\":2},\n",
    " value={\"name\":\"👩 Adele\", \"pizza\":\"Hawaii 🍕+🍍+🥓\"}\n",
    ")\n",
    "\n",
    "producer.send(\n",
    " TOPIC_NAME,\n",
    " key={\"id\":3},\n",
    " value={\"name\":\"👦 Mark\", \"pizza\":\"Choccolate 🍕+🍫\"}\n",
    ")\n",
    "\n",
    "producer.flush()"
   ]
  },
  {
   "cell_type": "code",
   "execution_count": 28,
   "id": "18c49520-5498-4e57-a6c9-9d673cb0356e",
   "metadata": {},
   "outputs": [],
   "source": [
    "producer.send(\n",
    " TOPIC_NAME,\n",
    " key={\"id\":4},\n",
    " value={\"name\":\"👨 Dan\", \"pizza\":\"Fries 🍕+🍟\"}\n",
    ")\n",
    "producer.flush()"
   ]
  },
  {
   "cell_type": "code",
   "execution_count": 5,
   "id": "c4839f7e-dac8-4d47-be9e-97555b01fe8a",
   "metadata": {},
   "outputs": [],
   "source": [
    "producer.send(\n",
    " TOPIC_NAME,\n",
    " key={\"id\":7},\n",
    " value={\"name\":\"Chris\", \"pizza\":\"Three Cheese\"}\n",
    ")\n",
    "producer.flush()"
   ]
  },
  {
   "cell_type": "code",
   "execution_count": null,
   "id": "a0841b2e-d194-440c-ba7c-b26df7519f22",
   "metadata": {},
   "outputs": [],
   "source": []
  }
 ],
 "metadata": {
  "kernelspec": {
   "display_name": "Python [conda env:prefect-test]",
   "language": "python",
   "name": "conda-env-prefect-test-py"
  },
  "language_info": {
   "codemirror_mode": {
    "name": "ipython",
    "version": 3
   },
   "file_extension": ".py",
   "mimetype": "text/x-python",
   "name": "python",
   "nbconvert_exporter": "python",
   "pygments_lexer": "ipython3",
   "version": "3.12.1"
  }
 },
 "nbformat": 4,
 "nbformat_minor": 5
}
